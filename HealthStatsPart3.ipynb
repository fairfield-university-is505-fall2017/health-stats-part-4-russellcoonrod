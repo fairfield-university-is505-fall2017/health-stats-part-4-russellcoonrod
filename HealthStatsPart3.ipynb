{
 "cells": [
  {
   "cell_type": "markdown",
   "metadata": {},
   "source": [
    "# Health Stats Part 2: Waist 2 Hip Ratios"
   ]
  },
  {
   "cell_type": "markdown",
   "metadata": {},
   "source": [
    "<!--- Write an explanation of the Waist To Hips Ratio statistic used by health professionals. Please include an explanation of what it is used for, exactly how it is calculated, and how to interpret the results. Note: Formmatting matters. Make this as professional as you can using Markdown.  --->\n",
    "EDIT THIS MARKDOWN CELL"
   ]
  },
  {
   "cell_type": "markdown",
   "metadata": {},
   "source": [
    "## Source Data "
   ]
  },
  {
   "cell_type": "markdown",
   "metadata": {},
   "source": [
    "<!--- Replace the text below with a Markdown bullet list that defines the columns of the CSV file. Be sure to indicate the data type for each column. --->\n",
    "EDIT THIS MARKDOWN CELL"
   ]
  },
  {
   "cell_type": "markdown",
   "metadata": {},
   "source": [
    "## Data Import"
   ]
  },
  {
   "cell_type": "code",
   "execution_count": 1,
   "metadata": {},
   "outputs": [
    {
     "name": "stdout",
     "output_type": "stream",
     "text": [
      "<class 'numpy.ndarray'>\n",
      "1\n",
      "(20,)\n",
      "[( 1, 30, 32, b'M') ( 2, 32, 37, b'M') ( 3, 30, 36, b'M')\n",
      " ( 4, 33, 39, b'M') ( 5, 29, 33, b'M') ( 6, 32, 38, b'M')\n",
      " ( 7, 33, 42, b'M') ( 8, 30, 40, b'M') ( 9, 30, 37, b'M')\n",
      " (10, 32, 39, b'M') (11, 24, 35, b'F') (12, 25, 37, b'F')\n",
      " (13, 24, 37, b'F') (14, 22, 34, b'F') (15, 26, 38, b'F')\n",
      " (16, 26, 37, b'F') (17, 25, 38, b'F') (18, 26, 37, b'F')\n",
      " (19, 28, 40, b'F') (20, 23, 35, b'F')]\n",
      "[('ID', '<i4'), ('Waist', '<i4'), ('Hip', '<i4'), ('Gender', 'S25')]\n"
     ]
    }
   ],
   "source": [
    "# Goal: Extract the data from the file\n",
    "\n",
    "#okay here it goes. Step 1 import NumPy\n",
    "import numpy as np\n",
    "\n",
    "#step 2 use the \" almost automatic\" CSV reading np.genfromtxt function, \"np.genfromtxt\" \n",
    "# as it is a .csv file, a \",\" should be the delimeter \n",
    "rows = np.genfromtxt(\"w2h_data.csv\",names=True, dtype=(int,int,int,'S25'),delimiter=\",\")\n",
    "\n",
    "#test that nonsense\n",
    "print(type(rows))\n",
    "#print tells me i successfully made a numpy array :)\n",
    "\n",
    "#let's take a look at \"What\" my np.array looks like,\n",
    "#for i in my_table :\n",
    "   # print(my_table)\n",
    "print(rows.ndim)\n",
    "print(rows.shape)\n",
    "print(rows)\n",
    "print(rows.dtype)\n",
    "    \n",
    "#I need to alter the dimentional parameters...\n",
    "#I still need to attach labels.\n",
    "#dtype is the way to do it, I think...\n",
    "\n",
    "#my_table.dtype[(\"id\",int),(\"waist\",int),(\"hip\",int),(\"gender\",\"S25\")]\n",
    "\n",
    "#my_table(dtype=[\"id\", int),(\"waist\", int),(\"hip\", int),(\"gender\", \"S25\")])\n",
    "\n",
    "\n",
    "\n",
    "#next two lines removed\n",
    "# opens the w2h_data.csv for reading\n",
    "#f = open(\"w2h_data.csv\", \"r\")\n",
    "\n",
    "#next two lines removed\n",
    "# loads the file into a list of strings, one string per line\n",
    "#raw_lines = list(f)\n",
    "\n",
    "#next two lines removed\n",
    "# closes the file\n",
    "#f.close()"
   ]
  },
  {
   "cell_type": "code",
   "execution_count": 2,
   "metadata": {
    "collapsed": true
   },
   "outputs": [],
   "source": [
    "#redacted\n"
   ]
  },
  {
   "cell_type": "markdown",
   "metadata": {},
   "source": [
    "## Calculations"
   ]
  },
  {
   "cell_type": "code",
   "execution_count": 5,
   "metadata": {},
   "outputs": [
    {
     "name": "stdout",
     "output_type": "stream",
     "text": [
      "[ True  True  True  True  True  True  True  True  True  True False False\n",
      " False False False False False False False False]\n",
      "[( 1, 30, 32, b'M') ( 2, 32, 37, b'M') ( 3, 30, 36, b'M')\n",
      " ( 4, 33, 39, b'M') ( 5, 29, 33, b'M') ( 6, 32, 38, b'M')\n",
      " ( 7, 33, 42, b'M') ( 8, 30, 40, b'M') ( 9, 30, 37, b'M')\n",
      " (10, 32, 39, b'M') (11, 24, 35, b'F') (12, 25, 37, b'F')\n",
      " (13, 24, 37, b'F') (14, 22, 34, b'F') (15, 26, 38, b'F')\n",
      " (16, 26, 37, b'F') (17, 25, 38, b'F') (18, 26, 37, b'F')\n",
      " (19, 28, 40, b'F') (20, 23, 35, b'F')]\n",
      "[ 0.9375      0.86486486  0.83333333  0.84615385  0.87878788  0.84210526\n",
      "  0.78571429  0.75        0.81081081  0.82051282  0.68571429  0.67567568\n",
      "  0.64864865  0.64705882  0.68421053  0.7027027   0.65789474  0.7027027\n",
      "  0.7         0.65714286]\n"
     ]
    }
   ],
   "source": [
    "# Goal: For each row of data calculate and store the w2h_ratio and shape.\n",
    "\n",
    "\n",
    "# For each row in the rows list, calculate the waist to hips ratio and shape\n",
    "#for row in rows:\n",
    "    # Calculate the w2h_ratio \n",
    "w2h_ratio = rows['Waist']/rows['Hip'] # FIX THIS; you will need to take care about data types\n",
    " \n",
    "\n",
    "#logical stuff\n",
    "males = (rows['Gender'] ==b'M')\n",
    "print(males)\n",
    "male_apple = np.logical_and(w2h_ratio>0.9, males)\n",
    "\n",
    "female_apple = np.logical_and((w2h_ratio>0.8),np.logical_not(males))\n",
    "apples = np.logical_or(male_apple, female_apple)\n",
    "\n",
    "shapes = np.where(apples, 'Apple', 'Pear')\n",
    "\n",
    "dt = np.dtype(rows.dtype.descr + [('W2H Ratio', float),('Shape', 'U5')])\n",
    "\n",
    "results = np.zeros(rows.shape,dtype=dt)\n",
    "\n",
    "for c in rows.dtype.names:\n",
    "    results[c] = rows[c]\n",
    "    \n",
    "results['W2H Ratio']=w2h_ratio\n",
    "results['Shape']=shapes\n",
    "            \n",
    "    \n",
    "    # Based on the ratio and the gender, set the variable shape to either 'apple' or 'pear'\n",
    "    #shape = 'Pear' # FIX THIS; you will need to use a conditional\n",
    "\n",
    "#if ((rows['Gender']=='M' and w2h_ratio > 0.9) or (rows['Gender'] == 'F' and w2h_ratio > 0.8)) :\n",
    "        #shape = \"Apple\"\n",
    "#else:\n",
    "        #shape = \"Pear\"\n",
    "    \n",
    "    # Add the new data to the end of the row\n",
    "    #row[\"w2H_Ratio\"]=w2h_ratio\n",
    "    #row[\"Shape\"] = shape\n",
    "    \n",
    "print(rows)\n",
    "print(w2h_ratio)\n"
   ]
  },
  {
   "cell_type": "markdown",
   "metadata": {},
   "source": [
    "## Output"
   ]
  },
  {
   "cell_type": "code",
   "execution_count": 10,
   "metadata": {},
   "outputs": [
    {
     "data": {
      "text/html": [
       "<table><tr><th>ID</th><th>Waist</th><th>Hip</th><th>Gender</th><th>W2H Ratio</th><th>Shape</th></tr><tr><td>1</td><td>30</td><td>32</td><td>b'M'</td><td>0.9375</td><td>Apple</td></tr><tr><td>2</td><td>32</td><td>37</td><td>b'M'</td><td>0.864864864865</td><td>Pear</td></tr><tr><td>3</td><td>30</td><td>36</td><td>b'M'</td><td>0.833333333333</td><td>Pear</td></tr><tr><td>4</td><td>33</td><td>39</td><td>b'M'</td><td>0.846153846154</td><td>Pear</td></tr><tr><td>5</td><td>29</td><td>33</td><td>b'M'</td><td>0.878787878788</td><td>Pear</td></tr><tr><td>6</td><td>32</td><td>38</td><td>b'M'</td><td>0.842105263158</td><td>Pear</td></tr><tr><td>7</td><td>33</td><td>42</td><td>b'M'</td><td>0.785714285714</td><td>Pear</td></tr><tr><td>8</td><td>30</td><td>40</td><td>b'M'</td><td>0.75</td><td>Pear</td></tr><tr><td>9</td><td>30</td><td>37</td><td>b'M'</td><td>0.810810810811</td><td>Pear</td></tr><tr><td>10</td><td>32</td><td>39</td><td>b'M'</td><td>0.820512820513</td><td>Pear</td></tr><tr><td>11</td><td>24</td><td>35</td><td>b'F'</td><td>0.685714285714</td><td>Pear</td></tr><tr><td>12</td><td>25</td><td>37</td><td>b'F'</td><td>0.675675675676</td><td>Pear</td></tr><tr><td>13</td><td>24</td><td>37</td><td>b'F'</td><td>0.648648648649</td><td>Pear</td></tr><tr><td>14</td><td>22</td><td>34</td><td>b'F'</td><td>0.647058823529</td><td>Pear</td></tr><tr><td>15</td><td>26</td><td>38</td><td>b'F'</td><td>0.684210526316</td><td>Pear</td></tr><tr><td>16</td><td>26</td><td>37</td><td>b'F'</td><td>0.702702702703</td><td>Pear</td></tr><tr><td>17</td><td>25</td><td>38</td><td>b'F'</td><td>0.657894736842</td><td>Pear</td></tr><tr><td>18</td><td>26</td><td>37</td><td>b'F'</td><td>0.702702702703</td><td>Pear</td></tr><tr><td>19</td><td>28</td><td>40</td><td>b'F'</td><td>0.7</td><td>Pear</td></tr><tr><td>20</td><td>23</td><td>35</td><td>b'F'</td><td>0.657142857143</td><td>Pear</td></tr></table>"
      ],
      "text/plain": [
       "<IPython.core.display.HTML object>"
      ]
     },
     "metadata": {},
     "output_type": "display_data"
    }
   ],
   "source": [
    "# Goal: pretty print the rows as an HTML table\n",
    "\n",
    "# Note: this works, but we can do this much better with pandas\n",
    "html_table = '<table><tr><th>'\n",
    "html_table += \"</th><th>\".join(results.dtype.names)\n",
    "html_table += '</th></tr>'\n",
    "for row in results:\n",
    "    html_table += \"<tr><td>\"\n",
    "    html_table += \"</td><td>\".join(str(v) for v in row)\n",
    "    html_table += \"</td></tr>\"\n",
    "html_table += \"</table>\"\n",
    "\n",
    "from IPython.display import HTML, display\n",
    "display(HTML(html_table))\n",
    "np.savetxt(\"StatsResults.csv\", results, fmt ='%s', delimiter=',',header=','.join(results.dtype.names), comments=\"\")"
   ]
  },
  {
   "cell_type": "code",
   "execution_count": null,
   "metadata": {
    "collapsed": true
   },
   "outputs": [],
   "source": []
  }
 ],
 "metadata": {
  "kernelspec": {
   "display_name": "Python 3",
   "language": "python",
   "name": "python3"
  },
  "language_info": {
   "codemirror_mode": {
    "name": "ipython",
    "version": 3
   },
   "file_extension": ".py",
   "mimetype": "text/x-python",
   "name": "python",
   "nbconvert_exporter": "python",
   "pygments_lexer": "ipython3",
   "version": "3.6.1"
  }
 },
 "nbformat": 4,
 "nbformat_minor": 2
}
